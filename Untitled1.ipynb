{
  "nbformat": 4,
  "nbformat_minor": 0,
  "metadata": {
    "colab": {
      "provenance": [],
      "authorship_tag": "ABX9TyO3+kWPhHznVrYhfVilZEtR",
      "include_colab_link": true
    },
    "kernelspec": {
      "name": "python3",
      "display_name": "Python 3"
    },
    "language_info": {
      "name": "python"
    }
  },
  "cells": [
    {
      "cell_type": "markdown",
      "metadata": {
        "id": "view-in-github",
        "colab_type": "text"
      },
      "source": [
        "<a href=\"https://colab.research.google.com/github/gsoham7/DL/blob/main/Untitled1.ipynb\" target=\"_parent\"><img src=\"https://colab.research.google.com/assets/colab-badge.svg\" alt=\"Open In Colab\"/></a>"
      ]
    },
    {
      "cell_type": "markdown",
      "source": [
        "# wordcount\n"
      ],
      "metadata": {
        "id": "U0B1lhz9KGnG"
      }
    },
    {
      "cell_type": "code",
      "execution_count": null,
      "metadata": {
        "id": "ZRdiinbCzIUg"
      },
      "outputs": [],
      "source": [
        "# Hadoop Installation data.txt ;IN,IN,AUS,ENG,SA,WI,SA,AUS,AUS....\n",
        "hdfs namenode -format\n",
        "cd \\hadoop\n",
        "cd sbin\n",
        "start -dfs\n",
        "start -yarn\n",
        "hadoop fs -mkdir /input_dir # localhost:9870\n",
        "# utilities -> browse files\n",
        "hadoop fs -put C:/User..../filepath/data.txt/input_dir\n",
        "hadoop fs -ls/input_dir/\n",
        "hadoop fs -cat/ input_dir/data.txt #it displays data\n",
        "# in local disk C-> hadoop -> mapreduce -> copy path\n",
        "hadoop jar C:/hadoop/..../hadoop-mapreduce-ex.-3.3.3.jar wordcount /input_dir /output_dir\n",
        "hadoop fs -cat /output_dir/*\n",
        "stop-all.cmd\n"
      ]
    },
    {
      "cell_type": "markdown",
      "source": [
        "# MongoDB"
      ],
      "metadata": {
        "id": "LhjWfb3jKeTV"
      }
    },
    {
      "cell_type": "code",
      "source": [
        "“C:\\Program Files\\MongoDB\\Server\\3.4\\bin”>mongo.exe\n",
        "db.help\n",
        "show dbs\n",
        "use DATABASE_NAME\n",
        "db\n",
        "db.dropDatabase()\n",
        "db.createCollection(\"name\") {\"OK\":1}\n",
        "show collections\n",
        "db.COLLECTION_NAME.drop()\n",
        "db.COLLECTION_NAME.insert(document) ({OK:'1', age:'12'})\n",
        "db.COLLECTION_NAME.find()\n",
        "db.COLLECTION_NAME.update(SELECTION_CRITERIA, UPDATED_DATA)\n",
        "db.COLLECTION_NAME.save({_id:ObjectId(),NEW_DATA})\n",
        "db.COLLECTION_NAME.remove(DELLETION_CRITTERIA)"
      ],
      "metadata": {
        "id": "HpIJ9PN4KgsL"
      },
      "execution_count": null,
      "outputs": []
    }
  ]
}